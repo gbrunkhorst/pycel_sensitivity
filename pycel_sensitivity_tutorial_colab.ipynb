{
  "cells": [
    {
      "cell_type": "markdown",
      "metadata": {
        "tags": [],
        "id": "Q-RRHWXW5vot"
      },
      "source": [
        "# Pycel_sensitivity tutorial\n",
        "Pycel_sensitivity is a wrapper around the package pycel (https://github.com/dgorissen/pycel).  Pycel is \"a small python library that can translate an Excel spreadsheet into executable python code which can be run independently of Excel.\"  The Pycel package allows a user to run a spreadsheet in python.  \n",
        "\n",
        "Pycel_sensitivity provide wrappers for common needs, such as identifing input and output variables, tracking variable names and units, repeating calculations from a list if input variables, drawing repeated calculations from probability distributions, summarizing results in dataframes or histograms.  "
      ]
    },
    {
      "cell_type": "markdown",
      "metadata": {
        "id": "vZY-bJPe5voz"
      },
      "source": [
        "## Imports"
      ]
    },
    {
      "cell_type": "code",
      "source": [
        "# If in colab\n",
        "!pip install pycel"
      ],
      "metadata": {
        "colab": {
          "base_uri": "https://localhost:8080/"
        },
        "id": "BADmVVRL54jP",
        "outputId": "f1e8c90f-a891-4c06-8a39-866f88f4733a"
      },
      "execution_count": 1,
      "outputs": [
        {
          "output_type": "stream",
          "name": "stdout",
          "text": [
            "Collecting pycel\n",
            "  Downloading pycel-1.0b30-py3-none-any.whl (114 kB)\n",
            "\u001b[?25l\r\u001b[K     |██▉                             | 10 kB 20.4 MB/s eta 0:00:01\r\u001b[K     |█████▊                          | 20 kB 23.4 MB/s eta 0:00:01\r\u001b[K     |████████▋                       | 30 kB 10.0 MB/s eta 0:00:01\r\u001b[K     |███████████▌                    | 40 kB 9.0 MB/s eta 0:00:01\r\u001b[K     |██████████████▍                 | 51 kB 7.1 MB/s eta 0:00:01\r\u001b[K     |█████████████████▎              | 61 kB 8.3 MB/s eta 0:00:01\r\u001b[K     |████████████████████            | 71 kB 6.5 MB/s eta 0:00:01\r\u001b[K     |███████████████████████         | 81 kB 7.2 MB/s eta 0:00:01\r\u001b[K     |█████████████████████████▉      | 92 kB 8.1 MB/s eta 0:00:01\r\u001b[K     |████████████████████████████▊   | 102 kB 8.2 MB/s eta 0:00:01\r\u001b[K     |███████████████████████████████▋| 112 kB 8.2 MB/s eta 0:00:01\r\u001b[K     |████████████████████████████████| 114 kB 8.2 MB/s \n",
            "\u001b[?25hRequirement already satisfied: python-dateutil in /usr/local/lib/python3.7/dist-packages (from pycel) (2.8.2)\n",
            "Collecting ruamel.yaml\n",
            "  Downloading ruamel.yaml-0.17.21-py3-none-any.whl (109 kB)\n",
            "\u001b[K     |████████████████████████████████| 109 kB 12.6 MB/s \n",
            "\u001b[?25hRequirement already satisfied: networkx<2.7,>=2.0 in /usr/local/lib/python3.7/dist-packages (from pycel) (2.6.3)\n",
            "Requirement already satisfied: numpy in /usr/local/lib/python3.7/dist-packages (from pycel) (1.21.5)\n",
            "Requirement already satisfied: openpyxl>=2.6.2 in /usr/local/lib/python3.7/dist-packages (from pycel) (3.0.9)\n",
            "Requirement already satisfied: et-xmlfile in /usr/local/lib/python3.7/dist-packages (from openpyxl>=2.6.2->pycel) (1.1.0)\n",
            "Requirement already satisfied: six>=1.5 in /usr/local/lib/python3.7/dist-packages (from python-dateutil->pycel) (1.15.0)\n",
            "Collecting ruamel.yaml.clib>=0.2.6\n",
            "  Downloading ruamel.yaml.clib-0.2.6-cp37-cp37m-manylinux1_x86_64.whl (546 kB)\n",
            "\u001b[K     |████████████████████████████████| 546 kB 38.8 MB/s \n",
            "\u001b[?25hInstalling collected packages: ruamel.yaml.clib, ruamel.yaml, pycel\n",
            "Successfully installed pycel-1.0b30 ruamel.yaml-0.17.21 ruamel.yaml.clib-0.2.6\n"
          ]
        }
      ]
    },
    {
      "cell_type": "code",
      "execution_count": 2,
      "metadata": {
        "id": "F-ggaMLR5vo1"
      },
      "outputs": [],
      "source": [
        "import pycel\n",
        "import scipy.stats as ss\n",
        "import matplotlib.pyplot as plt\n",
        "import numpy as np\n",
        "import pandas as pd\n",
        "import seaborn as sns"
      ]
    },
    {
      "cell_type": "code",
      "source": [
        "!git clone https://github.com/gbrunkhorst/pycel_sensitivity.git\n",
        "!pwd\n",
        "cd pycel_sensitivity\n",
        "import pycel_sensitivity as pcs"
      ],
      "metadata": {
        "colab": {
          "base_uri": "https://localhost:8080/"
        },
        "id": "ViuL5MyT6wGZ",
        "outputId": "bc83e5c2-1b8d-4b25-e23d-7a9884b94317"
      },
      "execution_count": 3,
      "outputs": [
        {
          "output_type": "stream",
          "name": "stdout",
          "text": [
            "Cloning into 'pycel_sensitivity'...\n",
            "remote: Enumerating objects: 8, done.\u001b[K\n",
            "remote: Counting objects: 100% (8/8), done.\u001b[K\n",
            "remote: Compressing objects: 100% (8/8), done.\u001b[K\n",
            "remote: Total 8 (delta 1), reused 0 (delta 0), pack-reused 0\u001b[K\n",
            "Unpacking objects: 100% (8/8), done.\n"
          ]
        }
      ]
    },
    {
      "cell_type": "markdown",
      "metadata": {
        "tags": [],
        "id": "RfN4BP2S5vpA"
      },
      "source": [
        "# Compile and Calculate a Spreadsheet with `Pycel`\n",
        "A cost estimating worksheet is used for this example.  A cost estimate is something that an engineer is unlikely to port over to python, for collaboration with non-coders and for visual checking.  However, the repetitive components can be improved with `pycel`. The following code shows the basic functionality of pycel. \n",
        "\n",
        "First, compile the example spreadsheet.  "
      ]
    },
    {
      "cell_type": "code",
      "execution_count": 11,
      "metadata": {
        "id": "d_Fxrx6_5vpC"
      },
      "outputs": [],
      "source": [
        "filename = \"Cost_Estimate_Example.xlsx\"\n",
        "wb = pycel.ExcelCompiler(filename=filename)"
      ]
    },
    {
      "cell_type": "markdown",
      "metadata": {
        "id": "--bd707C5vpD"
      },
      "source": [
        "`wb` is the compiled Excel workbook, which will be used in the rest of this tutorial.  With `pycel`, we can access values using the method `evaluate`.  Assume that an input cell of interest is as follows:     "
      ]
    },
    {
      "cell_type": "code",
      "execution_count": 12,
      "metadata": {
        "colab": {
          "base_uri": "https://localhost:8080/"
        },
        "id": "8x0nUd4Z5vpF",
        "outputId": "f39f089f-ee1c-4c0f-c10d-ced7c64e9255"
      },
      "outputs": [
        {
          "output_type": "execute_result",
          "data": {
            "text/plain": [
              "100000"
            ]
          },
          "metadata": {},
          "execution_count": 12
        }
      ],
      "source": [
        "sheet = 'Sheet1'\n",
        "input_cell = 'E5'\n",
        "wb.evaluate(sheet+'!'+input_cell)"
      ]
    },
    {
      "cell_type": "markdown",
      "metadata": {
        "id": "2Rl9IRYj5vpI"
      },
      "source": [
        "And an output cell of interest is as follows:"
      ]
    },
    {
      "cell_type": "code",
      "execution_count": 13,
      "metadata": {
        "colab": {
          "base_uri": "https://localhost:8080/"
        },
        "id": "rxCQE0qO5vpK",
        "outputId": "b553b629-6103-439a-8c31-fa05887651d3"
      },
      "outputs": [
        {
          "output_type": "execute_result",
          "data": {
            "text/plain": [
              "21462000"
            ]
          },
          "metadata": {},
          "execution_count": 13
        }
      ],
      "source": [
        "output_cell = 'F11'\n",
        "wb.evaluate(sheet+'!'+output_cell)"
      ]
    },
    {
      "cell_type": "markdown",
      "metadata": {
        "id": "osodRFy55vpM"
      },
      "source": [
        "We can modify the input cell with `set_value`."
      ]
    },
    {
      "cell_type": "code",
      "execution_count": 14,
      "metadata": {
        "colab": {
          "base_uri": "https://localhost:8080/"
        },
        "id": "B2pbwVPd5vpN",
        "outputId": "b95f7042-5337-421d-834c-fafcae9edbde"
      },
      "outputs": [
        {
          "output_type": "execute_result",
          "data": {
            "text/plain": [
              "50000"
            ]
          },
          "metadata": {},
          "execution_count": 14
        }
      ],
      "source": [
        "value = 50000\n",
        "wb.set_value(sheet+'!'+input_cell, value)\n",
        "wb.evaluate(sheet+'!'+input_cell)"
      ]
    },
    {
      "cell_type": "markdown",
      "metadata": {
        "id": "OsQU0aTA5vpO"
      },
      "source": [
        "Now the output cell has changed as well - following the calculation logic in the spreadsheet.  "
      ]
    },
    {
      "cell_type": "code",
      "execution_count": 15,
      "metadata": {
        "colab": {
          "base_uri": "https://localhost:8080/"
        },
        "id": "c4wfTY3n5vpQ",
        "outputId": "8195645c-45ad-460f-e086-4e29b68a620a"
      },
      "outputs": [
        {
          "output_type": "execute_result",
          "data": {
            "text/plain": [
              "11662000.0"
            ]
          },
          "metadata": {},
          "execution_count": 15
        }
      ],
      "source": [
        "wb.evaluate(sheet+'!'+output_cell)"
      ]
    },
    {
      "cell_type": "markdown",
      "metadata": {
        "id": "eM2Ndx4v5vpT"
      },
      "source": [
        "That is the basic calculation functionality of pycel!  If you want to repeat a calculation a bunch of times, you could put the functions in a loop, which is more/less what `pycel_sensitivity` does for you.  `pycel_sensitivity` will help track inputs and outputs as a list of values run sequentially, a list of values run randomly as monte carlo, and probability distributions as monte carlo.      "
      ]
    },
    {
      "cell_type": "markdown",
      "metadata": {
        "id": "WJ0gOsCF5vpV"
      },
      "source": [
        "# `Pycel_sensitivity` with a List of Inputs\n",
        "`Pycel_sensitivity` has three classes, `InputVar` for input variables, `OutputVar` for output variables, and `Model` for the combined spreadsheet model, variables, and convenience functions.  Working from the example above, lets assume that you want to run the calculation with a list of input values. This shows a basic workflow for repetive calculations.  "
      ]
    },
    {
      "cell_type": "markdown",
      "metadata": {
        "id": "naVPLmnY5vpX"
      },
      "source": [
        "## One Input and One Output Variable"
      ]
    },
    {
      "cell_type": "code",
      "execution_count": 16,
      "metadata": {
        "colab": {
          "base_uri": "https://localhost:8080/",
          "height": 175
        },
        "id": "v_fCRMc15vpY",
        "outputId": "ebf59c6d-8880-4720-ef36-c02724ef3a6b"
      },
      "outputs": [
        {
          "output_type": "execute_result",
          "data": {
            "text/html": [
              "\n",
              "  <div id=\"df-ca24523a-d3b1-40e2-9783-5da40caadf2a\">\n",
              "    <div class=\"colab-df-container\">\n",
              "      <div>\n",
              "<style scoped>\n",
              "    .dataframe tbody tr th:only-of-type {\n",
              "        vertical-align: middle;\n",
              "    }\n",
              "\n",
              "    .dataframe tbody tr th {\n",
              "        vertical-align: top;\n",
              "    }\n",
              "\n",
              "    .dataframe thead tr th {\n",
              "        text-align: left;\n",
              "    }\n",
              "</style>\n",
              "<table border=\"1\" class=\"dataframe\">\n",
              "  <thead>\n",
              "    <tr>\n",
              "      <th></th>\n",
              "      <th>Inputs</th>\n",
              "      <th>Outputs</th>\n",
              "    </tr>\n",
              "    <tr>\n",
              "      <th></th>\n",
              "      <th>E5</th>\n",
              "      <th>F11</th>\n",
              "    </tr>\n",
              "  </thead>\n",
              "  <tbody>\n",
              "    <tr>\n",
              "      <th>0</th>\n",
              "      <td>50000</td>\n",
              "      <td>11662000.0</td>\n",
              "    </tr>\n",
              "    <tr>\n",
              "      <th>1</th>\n",
              "      <td>100000</td>\n",
              "      <td>21462000.0</td>\n",
              "    </tr>\n",
              "    <tr>\n",
              "      <th>2</th>\n",
              "      <td>200000</td>\n",
              "      <td>41062000.0</td>\n",
              "    </tr>\n",
              "  </tbody>\n",
              "</table>\n",
              "</div>\n",
              "      <button class=\"colab-df-convert\" onclick=\"convertToInteractive('df-ca24523a-d3b1-40e2-9783-5da40caadf2a')\"\n",
              "              title=\"Convert this dataframe to an interactive table.\"\n",
              "              style=\"display:none;\">\n",
              "        \n",
              "  <svg xmlns=\"http://www.w3.org/2000/svg\" height=\"24px\"viewBox=\"0 0 24 24\"\n",
              "       width=\"24px\">\n",
              "    <path d=\"M0 0h24v24H0V0z\" fill=\"none\"/>\n",
              "    <path d=\"M18.56 5.44l.94 2.06.94-2.06 2.06-.94-2.06-.94-.94-2.06-.94 2.06-2.06.94zm-11 1L8.5 8.5l.94-2.06 2.06-.94-2.06-.94L8.5 2.5l-.94 2.06-2.06.94zm10 10l.94 2.06.94-2.06 2.06-.94-2.06-.94-.94-2.06-.94 2.06-2.06.94z\"/><path d=\"M17.41 7.96l-1.37-1.37c-.4-.4-.92-.59-1.43-.59-.52 0-1.04.2-1.43.59L10.3 9.45l-7.72 7.72c-.78.78-.78 2.05 0 2.83L4 21.41c.39.39.9.59 1.41.59.51 0 1.02-.2 1.41-.59l7.78-7.78 2.81-2.81c.8-.78.8-2.07 0-2.86zM5.41 20L4 18.59l7.72-7.72 1.47 1.35L5.41 20z\"/>\n",
              "  </svg>\n",
              "      </button>\n",
              "      \n",
              "  <style>\n",
              "    .colab-df-container {\n",
              "      display:flex;\n",
              "      flex-wrap:wrap;\n",
              "      gap: 12px;\n",
              "    }\n",
              "\n",
              "    .colab-df-convert {\n",
              "      background-color: #E8F0FE;\n",
              "      border: none;\n",
              "      border-radius: 50%;\n",
              "      cursor: pointer;\n",
              "      display: none;\n",
              "      fill: #1967D2;\n",
              "      height: 32px;\n",
              "      padding: 0 0 0 0;\n",
              "      width: 32px;\n",
              "    }\n",
              "\n",
              "    .colab-df-convert:hover {\n",
              "      background-color: #E2EBFA;\n",
              "      box-shadow: 0px 1px 2px rgba(60, 64, 67, 0.3), 0px 1px 3px 1px rgba(60, 64, 67, 0.15);\n",
              "      fill: #174EA6;\n",
              "    }\n",
              "\n",
              "    [theme=dark] .colab-df-convert {\n",
              "      background-color: #3B4455;\n",
              "      fill: #D2E3FC;\n",
              "    }\n",
              "\n",
              "    [theme=dark] .colab-df-convert:hover {\n",
              "      background-color: #434B5C;\n",
              "      box-shadow: 0px 1px 3px 1px rgba(0, 0, 0, 0.15);\n",
              "      filter: drop-shadow(0px 1px 2px rgba(0, 0, 0, 0.3));\n",
              "      fill: #FFFFFF;\n",
              "    }\n",
              "  </style>\n",
              "\n",
              "      <script>\n",
              "        const buttonEl =\n",
              "          document.querySelector('#df-ca24523a-d3b1-40e2-9783-5da40caadf2a button.colab-df-convert');\n",
              "        buttonEl.style.display =\n",
              "          google.colab.kernel.accessAllowed ? 'block' : 'none';\n",
              "\n",
              "        async function convertToInteractive(key) {\n",
              "          const element = document.querySelector('#df-ca24523a-d3b1-40e2-9783-5da40caadf2a');\n",
              "          const dataTable =\n",
              "            await google.colab.kernel.invokeFunction('convertToInteractive',\n",
              "                                                     [key], {});\n",
              "          if (!dataTable) return;\n",
              "\n",
              "          const docLinkHtml = 'Like what you see? Visit the ' +\n",
              "            '<a target=\"_blank\" href=https://colab.research.google.com/notebooks/data_table.ipynb>data table notebook</a>'\n",
              "            + ' to learn more about interactive tables.';\n",
              "          element.innerHTML = '';\n",
              "          dataTable['output_type'] = 'display_data';\n",
              "          await google.colab.output.renderOutput(dataTable, element);\n",
              "          const docLink = document.createElement('div');\n",
              "          docLink.innerHTML = docLinkHtml;\n",
              "          element.appendChild(docLink);\n",
              "        }\n",
              "      </script>\n",
              "    </div>\n",
              "  </div>\n",
              "  "
            ],
            "text/plain": [
              "   Inputs     Outputs\n",
              "       E5         F11\n",
              "0   50000  11662000.0\n",
              "1  100000  21462000.0\n",
              "2  200000  41062000.0"
            ]
          },
          "metadata": {},
          "execution_count": 16
        }
      ],
      "source": [
        "# Specify a list on inputs\n",
        "values = [50000, 100000, 200000]\n",
        "# Instanciate the `InputVar` with the compiled workbook, sheet, cell, and list of values\n",
        "iv = pcs.InputVar(wb, sheet, input_cell, values = values )\n",
        "# Same for `OutputVar`. \n",
        "ov =  pcs.OutputVar(wb, sheet, output_cell)\n",
        "# Instanciate the `Model` object with pycel compiled workbook and lists on InputVars and OutputVars.  \n",
        "model = pcs.Model(wb,[iv],[ov])\n",
        "# Run the model to perform the calculation on all input values in the list.\n",
        "model.run()\n",
        "# Get the results into a dataframee\n",
        "model.get_io_values()"
      ]
    },
    {
      "cell_type": "markdown",
      "metadata": {
        "id": "YRx9r3i45vpb"
      },
      "source": [
        "## Multiple Inputs and Outputs with Names and Units\n",
        "This section shows how `Model` handles multiple inputs and outputs, and additional attributes of `InputVar` and `OutputVar` for tracking and table and figure labeling."
      ]
    },
    {
      "cell_type": "code",
      "execution_count": 17,
      "metadata": {
        "colab": {
          "base_uri": "https://localhost:8080/",
          "height": 175
        },
        "id": "p1tCMhq75vpd",
        "outputId": "39204682-c8e8-4f38-dd5c-9dea3d9c4269"
      },
      "outputs": [
        {
          "output_type": "execute_result",
          "data": {
            "text/html": [
              "\n",
              "  <div id=\"df-fcca1169-745c-435e-bcb3-df777504eb2e\">\n",
              "    <div class=\"colab-df-container\">\n",
              "      <div>\n",
              "<style scoped>\n",
              "    .dataframe tbody tr th:only-of-type {\n",
              "        vertical-align: middle;\n",
              "    }\n",
              "\n",
              "    .dataframe tbody tr th {\n",
              "        vertical-align: top;\n",
              "    }\n",
              "\n",
              "    .dataframe thead tr th {\n",
              "        text-align: left;\n",
              "    }\n",
              "</style>\n",
              "<table border=\"1\" class=\"dataframe\">\n",
              "  <thead>\n",
              "    <tr>\n",
              "      <th></th>\n",
              "      <th colspan=\"2\" halign=\"left\">Inputs</th>\n",
              "      <th colspan=\"2\" halign=\"left\">Outputs</th>\n",
              "    </tr>\n",
              "    <tr>\n",
              "      <th></th>\n",
              "      <th>Dredging Quantity</th>\n",
              "      <th>Dredging Unit Cost</th>\n",
              "      <th>Dredging Cost</th>\n",
              "      <th>Project Cost</th>\n",
              "    </tr>\n",
              "  </thead>\n",
              "  <tbody>\n",
              "    <tr>\n",
              "      <th>0</th>\n",
              "      <td>50000</td>\n",
              "      <td>15</td>\n",
              "      <td>1000000</td>\n",
              "      <td>11200021.0</td>\n",
              "    </tr>\n",
              "    <tr>\n",
              "      <th>1</th>\n",
              "      <td>100000</td>\n",
              "      <td>20</td>\n",
              "      <td>2000000</td>\n",
              "      <td>21000028.0</td>\n",
              "    </tr>\n",
              "    <tr>\n",
              "      <th>2</th>\n",
              "      <td>200000</td>\n",
              "      <td>25</td>\n",
              "      <td>4000000</td>\n",
              "      <td>40600035.0</td>\n",
              "    </tr>\n",
              "  </tbody>\n",
              "</table>\n",
              "</div>\n",
              "      <button class=\"colab-df-convert\" onclick=\"convertToInteractive('df-fcca1169-745c-435e-bcb3-df777504eb2e')\"\n",
              "              title=\"Convert this dataframe to an interactive table.\"\n",
              "              style=\"display:none;\">\n",
              "        \n",
              "  <svg xmlns=\"http://www.w3.org/2000/svg\" height=\"24px\"viewBox=\"0 0 24 24\"\n",
              "       width=\"24px\">\n",
              "    <path d=\"M0 0h24v24H0V0z\" fill=\"none\"/>\n",
              "    <path d=\"M18.56 5.44l.94 2.06.94-2.06 2.06-.94-2.06-.94-.94-2.06-.94 2.06-2.06.94zm-11 1L8.5 8.5l.94-2.06 2.06-.94-2.06-.94L8.5 2.5l-.94 2.06-2.06.94zm10 10l.94 2.06.94-2.06 2.06-.94-2.06-.94-.94-2.06-.94 2.06-2.06.94z\"/><path d=\"M17.41 7.96l-1.37-1.37c-.4-.4-.92-.59-1.43-.59-.52 0-1.04.2-1.43.59L10.3 9.45l-7.72 7.72c-.78.78-.78 2.05 0 2.83L4 21.41c.39.39.9.59 1.41.59.51 0 1.02-.2 1.41-.59l7.78-7.78 2.81-2.81c.8-.78.8-2.07 0-2.86zM5.41 20L4 18.59l7.72-7.72 1.47 1.35L5.41 20z\"/>\n",
              "  </svg>\n",
              "      </button>\n",
              "      \n",
              "  <style>\n",
              "    .colab-df-container {\n",
              "      display:flex;\n",
              "      flex-wrap:wrap;\n",
              "      gap: 12px;\n",
              "    }\n",
              "\n",
              "    .colab-df-convert {\n",
              "      background-color: #E8F0FE;\n",
              "      border: none;\n",
              "      border-radius: 50%;\n",
              "      cursor: pointer;\n",
              "      display: none;\n",
              "      fill: #1967D2;\n",
              "      height: 32px;\n",
              "      padding: 0 0 0 0;\n",
              "      width: 32px;\n",
              "    }\n",
              "\n",
              "    .colab-df-convert:hover {\n",
              "      background-color: #E2EBFA;\n",
              "      box-shadow: 0px 1px 2px rgba(60, 64, 67, 0.3), 0px 1px 3px 1px rgba(60, 64, 67, 0.15);\n",
              "      fill: #174EA6;\n",
              "    }\n",
              "\n",
              "    [theme=dark] .colab-df-convert {\n",
              "      background-color: #3B4455;\n",
              "      fill: #D2E3FC;\n",
              "    }\n",
              "\n",
              "    [theme=dark] .colab-df-convert:hover {\n",
              "      background-color: #434B5C;\n",
              "      box-shadow: 0px 1px 3px 1px rgba(0, 0, 0, 0.15);\n",
              "      filter: drop-shadow(0px 1px 2px rgba(0, 0, 0, 0.3));\n",
              "      fill: #FFFFFF;\n",
              "    }\n",
              "  </style>\n",
              "\n",
              "      <script>\n",
              "        const buttonEl =\n",
              "          document.querySelector('#df-fcca1169-745c-435e-bcb3-df777504eb2e button.colab-df-convert');\n",
              "        buttonEl.style.display =\n",
              "          google.colab.kernel.accessAllowed ? 'block' : 'none';\n",
              "\n",
              "        async function convertToInteractive(key) {\n",
              "          const element = document.querySelector('#df-fcca1169-745c-435e-bcb3-df777504eb2e');\n",
              "          const dataTable =\n",
              "            await google.colab.kernel.invokeFunction('convertToInteractive',\n",
              "                                                     [key], {});\n",
              "          if (!dataTable) return;\n",
              "\n",
              "          const docLinkHtml = 'Like what you see? Visit the ' +\n",
              "            '<a target=\"_blank\" href=https://colab.research.google.com/notebooks/data_table.ipynb>data table notebook</a>'\n",
              "            + ' to learn more about interactive tables.';\n",
              "          element.innerHTML = '';\n",
              "          dataTable['output_type'] = 'display_data';\n",
              "          await google.colab.output.renderOutput(dataTable, element);\n",
              "          const docLink = document.createElement('div');\n",
              "          docLink.innerHTML = docLinkHtml;\n",
              "          element.appendChild(docLink);\n",
              "        }\n",
              "      </script>\n",
              "    </div>\n",
              "  </div>\n",
              "  "
            ],
            "text/plain": [
              "             Inputs                          Outputs             \n",
              "  Dredging Quantity Dredging Unit Cost Dredging Cost Project Cost\n",
              "0             50000                 15       1000000   11200021.0\n",
              "1            100000                 20       2000000   21000028.0\n",
              "2            200000                 25       4000000   40600035.0"
            ]
          },
          "metadata": {},
          "execution_count": 17
        }
      ],
      "source": [
        "# Now we give the input variable a name and unit for convenience\n",
        "iv1 = pcs.InputVar(wb,sheet=sheet, cell=input_cell, \n",
        "    name='Dredging Quantity', unit = 'cy', values = values)\n",
        "\n",
        "# Second input  - list must be of the same length\n",
        "values = [15, 20, 25]\n",
        "iv2 = pcs.InputVar(wb,sheet=sheet, cell='C4', \n",
        "    name='Dredging Unit Cost', unit = '$/cy', values = values  )\n",
        "\n",
        "# Specify two output variables\n",
        "ov1 = pcs.OutputVar(wb,sheet = sheet, cell = 'F5' ,name= 'Dredging Cost', unit = '$' )\n",
        "ov2 = pcs.OutputVar(wb,sheet = sheet, cell = 'F11' ,name= 'Project Cost', unit = '$' )\n",
        "\n",
        "# Instanciate and run the model\n",
        "model = pcs.Model(wb,[iv1, iv2],[ov1, ov2])\n",
        "model.run()\n",
        "\n",
        "# the output dataframe includes the names\n",
        "model.get_io_values()"
      ]
    },
    {
      "cell_type": "markdown",
      "metadata": {
        "id": "z3dvgamg5vpe"
      },
      "source": [
        "The model is run for each pair of inputs sequentially.  "
      ]
    },
    {
      "cell_type": "markdown",
      "metadata": {
        "tags": [],
        "id": "3X0ANtv05vph"
      },
      "source": [
        "# `Pycel_sensitivity` with Randomly Drawn Inputs\n",
        "The model can be used to run a monte carlo simulation iterately with random draws from the list of input values.  If we supply the keyword `iterations` with an integer, the model will perform the monte carlo simulation using `np.random.choice` rather than running the list of inputs sequentially.   \n"
      ]
    },
    {
      "cell_type": "code",
      "execution_count": 18,
      "metadata": {
        "id": "PRyVxQsP5vpi"
      },
      "outputs": [],
      "source": [
        "model.run(iterations = 1000)"
      ]
    },
    {
      "cell_type": "markdown",
      "metadata": {
        "id": "uV3TUGV75vpj"
      },
      "source": [
        "The `describe` method provides summary statistics.  "
      ]
    },
    {
      "cell_type": "code",
      "execution_count": 19,
      "metadata": {
        "colab": {
          "base_uri": "https://localhost:8080/",
          "height": 175
        },
        "id": "Ya132poA5vpk",
        "outputId": "848704e0-8d15-4f88-ee72-68c985530a80"
      },
      "outputs": [
        {
          "output_type": "execute_result",
          "data": {
            "text/html": [
              "\n",
              "  <div id=\"df-7b2628d4-ab08-4d2d-9412-998ea28dda17\">\n",
              "    <div class=\"colab-df-container\">\n",
              "      <div>\n",
              "<style scoped>\n",
              "    .dataframe tbody tr th:only-of-type {\n",
              "        vertical-align: middle;\n",
              "    }\n",
              "\n",
              "    .dataframe tbody tr th {\n",
              "        vertical-align: top;\n",
              "    }\n",
              "\n",
              "    .dataframe thead th {\n",
              "        text-align: right;\n",
              "    }\n",
              "</style>\n",
              "<table border=\"1\" class=\"dataframe\">\n",
              "  <thead>\n",
              "    <tr style=\"text-align: right;\">\n",
              "      <th></th>\n",
              "      <th>sheet</th>\n",
              "      <th>cell</th>\n",
              "      <th>type</th>\n",
              "      <th>unit</th>\n",
              "      <th>count</th>\n",
              "      <th>mean</th>\n",
              "      <th>std</th>\n",
              "      <th>min</th>\n",
              "      <th>10%</th>\n",
              "      <th>50%</th>\n",
              "      <th>90%</th>\n",
              "      <th>max</th>\n",
              "    </tr>\n",
              "  </thead>\n",
              "  <tbody>\n",
              "    <tr>\n",
              "      <th>Dredging Quantity</th>\n",
              "      <td>Sheet1</td>\n",
              "      <td>E5</td>\n",
              "      <td>input</td>\n",
              "      <td>cy</td>\n",
              "      <td>1000.0</td>\n",
              "      <td>1.170000e+05</td>\n",
              "      <td>6.164252e+04</td>\n",
              "      <td>50000.0</td>\n",
              "      <td>50000.0</td>\n",
              "      <td>100000.0</td>\n",
              "      <td>200000.0</td>\n",
              "      <td>200000.0</td>\n",
              "    </tr>\n",
              "    <tr>\n",
              "      <th>Dredging Unit Cost</th>\n",
              "      <td>Sheet1</td>\n",
              "      <td>C4</td>\n",
              "      <td>input</td>\n",
              "      <td>$/cy</td>\n",
              "      <td>1000.0</td>\n",
              "      <td>1.976500e+01</td>\n",
              "      <td>4.054160e+00</td>\n",
              "      <td>15.0</td>\n",
              "      <td>15.0</td>\n",
              "      <td>20.0</td>\n",
              "      <td>25.0</td>\n",
              "      <td>25.0</td>\n",
              "    </tr>\n",
              "    <tr>\n",
              "      <th>Dredging Cost</th>\n",
              "      <td>Sheet1</td>\n",
              "      <td>F5</td>\n",
              "      <td>output</td>\n",
              "      <td>$</td>\n",
              "      <td>1000.0</td>\n",
              "      <td>2.340000e+06</td>\n",
              "      <td>1.232850e+06</td>\n",
              "      <td>1000000.0</td>\n",
              "      <td>1000000.0</td>\n",
              "      <td>2000000.0</td>\n",
              "      <td>4000000.0</td>\n",
              "      <td>4000000.0</td>\n",
              "    </tr>\n",
              "    <tr>\n",
              "      <th>Project Cost</th>\n",
              "      <td>Sheet1</td>\n",
              "      <td>F11</td>\n",
              "      <td>output</td>\n",
              "      <td>$</td>\n",
              "      <td>1000.0</td>\n",
              "      <td>2.433203e+07</td>\n",
              "      <td>1.208193e+07</td>\n",
              "      <td>11200021.0</td>\n",
              "      <td>11200021.0</td>\n",
              "      <td>21000028.0</td>\n",
              "      <td>40600028.0</td>\n",
              "      <td>40600035.0</td>\n",
              "    </tr>\n",
              "  </tbody>\n",
              "</table>\n",
              "</div>\n",
              "      <button class=\"colab-df-convert\" onclick=\"convertToInteractive('df-7b2628d4-ab08-4d2d-9412-998ea28dda17')\"\n",
              "              title=\"Convert this dataframe to an interactive table.\"\n",
              "              style=\"display:none;\">\n",
              "        \n",
              "  <svg xmlns=\"http://www.w3.org/2000/svg\" height=\"24px\"viewBox=\"0 0 24 24\"\n",
              "       width=\"24px\">\n",
              "    <path d=\"M0 0h24v24H0V0z\" fill=\"none\"/>\n",
              "    <path d=\"M18.56 5.44l.94 2.06.94-2.06 2.06-.94-2.06-.94-.94-2.06-.94 2.06-2.06.94zm-11 1L8.5 8.5l.94-2.06 2.06-.94-2.06-.94L8.5 2.5l-.94 2.06-2.06.94zm10 10l.94 2.06.94-2.06 2.06-.94-2.06-.94-.94-2.06-.94 2.06-2.06.94z\"/><path d=\"M17.41 7.96l-1.37-1.37c-.4-.4-.92-.59-1.43-.59-.52 0-1.04.2-1.43.59L10.3 9.45l-7.72 7.72c-.78.78-.78 2.05 0 2.83L4 21.41c.39.39.9.59 1.41.59.51 0 1.02-.2 1.41-.59l7.78-7.78 2.81-2.81c.8-.78.8-2.07 0-2.86zM5.41 20L4 18.59l7.72-7.72 1.47 1.35L5.41 20z\"/>\n",
              "  </svg>\n",
              "      </button>\n",
              "      \n",
              "  <style>\n",
              "    .colab-df-container {\n",
              "      display:flex;\n",
              "      flex-wrap:wrap;\n",
              "      gap: 12px;\n",
              "    }\n",
              "\n",
              "    .colab-df-convert {\n",
              "      background-color: #E8F0FE;\n",
              "      border: none;\n",
              "      border-radius: 50%;\n",
              "      cursor: pointer;\n",
              "      display: none;\n",
              "      fill: #1967D2;\n",
              "      height: 32px;\n",
              "      padding: 0 0 0 0;\n",
              "      width: 32px;\n",
              "    }\n",
              "\n",
              "    .colab-df-convert:hover {\n",
              "      background-color: #E2EBFA;\n",
              "      box-shadow: 0px 1px 2px rgba(60, 64, 67, 0.3), 0px 1px 3px 1px rgba(60, 64, 67, 0.15);\n",
              "      fill: #174EA6;\n",
              "    }\n",
              "\n",
              "    [theme=dark] .colab-df-convert {\n",
              "      background-color: #3B4455;\n",
              "      fill: #D2E3FC;\n",
              "    }\n",
              "\n",
              "    [theme=dark] .colab-df-convert:hover {\n",
              "      background-color: #434B5C;\n",
              "      box-shadow: 0px 1px 3px 1px rgba(0, 0, 0, 0.15);\n",
              "      filter: drop-shadow(0px 1px 2px rgba(0, 0, 0, 0.3));\n",
              "      fill: #FFFFFF;\n",
              "    }\n",
              "  </style>\n",
              "\n",
              "      <script>\n",
              "        const buttonEl =\n",
              "          document.querySelector('#df-7b2628d4-ab08-4d2d-9412-998ea28dda17 button.colab-df-convert');\n",
              "        buttonEl.style.display =\n",
              "          google.colab.kernel.accessAllowed ? 'block' : 'none';\n",
              "\n",
              "        async function convertToInteractive(key) {\n",
              "          const element = document.querySelector('#df-7b2628d4-ab08-4d2d-9412-998ea28dda17');\n",
              "          const dataTable =\n",
              "            await google.colab.kernel.invokeFunction('convertToInteractive',\n",
              "                                                     [key], {});\n",
              "          if (!dataTable) return;\n",
              "\n",
              "          const docLinkHtml = 'Like what you see? Visit the ' +\n",
              "            '<a target=\"_blank\" href=https://colab.research.google.com/notebooks/data_table.ipynb>data table notebook</a>'\n",
              "            + ' to learn more about interactive tables.';\n",
              "          element.innerHTML = '';\n",
              "          dataTable['output_type'] = 'display_data';\n",
              "          await google.colab.output.renderOutput(dataTable, element);\n",
              "          const docLink = document.createElement('div');\n",
              "          docLink.innerHTML = docLinkHtml;\n",
              "          element.appendChild(docLink);\n",
              "        }\n",
              "      </script>\n",
              "    </div>\n",
              "  </div>\n",
              "  "
            ],
            "text/plain": [
              "                     sheet cell    type  unit   count          mean  \\\n",
              "Dredging Quantity   Sheet1   E5   input    cy  1000.0  1.170000e+05   \n",
              "Dredging Unit Cost  Sheet1   C4   input  $/cy  1000.0  1.976500e+01   \n",
              "Dredging Cost       Sheet1   F5  output     $  1000.0  2.340000e+06   \n",
              "Project Cost        Sheet1  F11  output     $  1000.0  2.433203e+07   \n",
              "\n",
              "                             std         min         10%         50%  \\\n",
              "Dredging Quantity   6.164252e+04     50000.0     50000.0    100000.0   \n",
              "Dredging Unit Cost  4.054160e+00        15.0        15.0        20.0   \n",
              "Dredging Cost       1.232850e+06   1000000.0   1000000.0   2000000.0   \n",
              "Project Cost        1.208193e+07  11200021.0  11200021.0  21000028.0   \n",
              "\n",
              "                           90%         max  \n",
              "Dredging Quantity     200000.0    200000.0  \n",
              "Dredging Unit Cost        25.0        25.0  \n",
              "Dredging Cost        4000000.0   4000000.0  \n",
              "Project Cost        40600028.0  40600035.0  "
            ]
          },
          "metadata": {},
          "execution_count": 19
        }
      ],
      "source": [
        "model.describe()"
      ]
    },
    {
      "cell_type": "markdown",
      "metadata": {
        "tags": [],
        "id": "v96ymNlQ5vpl"
      },
      "source": [
        "# `Pycel_sensitivity` with Inputs as `Scipy.Stats` Probability Distributions\n",
        "The next logical extension is to use continuous probability distributions as inputs rather than discrete distributions.  `pycel_sensitivity` accepts `scipy.stats` continuous probability distributions as inputs to the monte carlo analysis.  See https://docs.scipy.org/doc/scipy/reference/stats.html for available distributions.  "
      ]
    },
    {
      "cell_type": "code",
      "execution_count": 20,
      "metadata": {
        "id": "z6JNQiu-5vpm"
      },
      "outputs": [],
      "source": [
        "# normal distribution\n",
        "dist1  = ss.norm(100000,20000)\n",
        "# uniform distribution \n",
        "# (note that the second parameter \n",
        "# is the width rather than the max!)\n",
        "dist2 = ss.uniform(15, 10)"
      ]
    },
    {
      "cell_type": "code",
      "execution_count": 21,
      "metadata": {
        "id": "k2lU1Loa5vpn"
      },
      "outputs": [],
      "source": [
        "# reinstanciate the input variable and the model\n",
        "iv1 = pcs.InputVar(wb,sheet=sheet, cell=input_cell, \n",
        "    name='Dredging Quantity', unit = 'cy', dist = dist1)\n",
        "iv2 = pcs.InputVar(wb,sheet=sheet, cell='C4', \n",
        "    name='Dredging Unit Cost', unit = '$/cy', dist=dist2)\n",
        "\n",
        "model = pcs.Model(wb,[iv1, iv2],[ov1, ov2])"
      ]
    },
    {
      "cell_type": "code",
      "execution_count": 22,
      "metadata": {
        "colab": {
          "base_uri": "https://localhost:8080/",
          "height": 241
        },
        "id": "7sd3KDRQ5vpo",
        "outputId": "7782a3c6-21ae-477e-822e-727eff7d57a4"
      },
      "outputs": [
        {
          "output_type": "display_data",
          "data": {
            "image/png": "[encoded data removed]",
            "text/plain": [
              "<Figure size 432x216 with 2 Axes>"
            ]
          },
          "metadata": {
            "needs_background": "light"
          }
        }
      ],
      "source": [
        "# check the input distributions\n",
        "model.plot_input_dists();"
      ]
    },
    {
      "cell_type": "code",
      "execution_count": 23,
      "metadata": {
        "id": "A1Wx0CRD5vpq"
      },
      "outputs": [],
      "source": [
        "model.run(iterations = 1000)"
      ]
    },
    {
      "cell_type": "code",
      "execution_count": 24,
      "metadata": {
        "colab": {
          "base_uri": "https://localhost:8080/",
          "height": 175
        },
        "id": "-u0lXUy45vps",
        "outputId": "4ad0546f-a74c-43f3-f3d9-24df90d7cb47"
      },
      "outputs": [
        {
          "output_type": "execute_result",
          "data": {
            "text/html": [
              "\n",
              "  <div id=\"df-e11eccaf-ca1f-42ef-a4cf-1a7ef1fce1bb\">\n",
              "    <div class=\"colab-df-container\">\n",
              "      <div>\n",
              "<style scoped>\n",
              "    .dataframe tbody tr th:only-of-type {\n",
              "        vertical-align: middle;\n",
              "    }\n",
              "\n",
              "    .dataframe tbody tr th {\n",
              "        vertical-align: top;\n",
              "    }\n",
              "\n",
              "    .dataframe thead th {\n",
              "        text-align: right;\n",
              "    }\n",
              "</style>\n",
              "<table border=\"1\" class=\"dataframe\">\n",
              "  <thead>\n",
              "    <tr style=\"text-align: right;\">\n",
              "      <th></th>\n",
              "      <th>sheet</th>\n",
              "      <th>cell</th>\n",
              "      <th>type</th>\n",
              "      <th>unit</th>\n",
              "      <th>count</th>\n",
              "      <th>mean</th>\n",
              "      <th>std</th>\n",
              "      <th>min</th>\n",
              "      <th>10%</th>\n",
              "      <th>50%</th>\n",
              "      <th>90%</th>\n",
              "      <th>max</th>\n",
              "    </tr>\n",
              "  </thead>\n",
              "  <tbody>\n",
              "    <tr>\n",
              "      <th>Dredging Quantity</th>\n",
              "      <td>Sheet1</td>\n",
              "      <td>E5</td>\n",
              "      <td>input</td>\n",
              "      <td>cy</td>\n",
              "      <td>1000.0</td>\n",
              "      <td>1.004589e+05</td>\n",
              "      <td>1.989654e+04</td>\n",
              "      <td>3.176938e+04</td>\n",
              "      <td>7.636015e+04</td>\n",
              "      <td>9.966147e+04</td>\n",
              "      <td>1.257515e+05</td>\n",
              "      <td>1.651907e+05</td>\n",
              "    </tr>\n",
              "    <tr>\n",
              "      <th>Dredging Unit Cost</th>\n",
              "      <td>Sheet1</td>\n",
              "      <td>C4</td>\n",
              "      <td>input</td>\n",
              "      <td>$/cy</td>\n",
              "      <td>1000.0</td>\n",
              "      <td>1.998482e+01</td>\n",
              "      <td>2.886487e+00</td>\n",
              "      <td>1.500063e+01</td>\n",
              "      <td>1.607192e+01</td>\n",
              "      <td>2.005114e+01</td>\n",
              "      <td>2.395573e+01</td>\n",
              "      <td>2.499523e+01</td>\n",
              "    </tr>\n",
              "    <tr>\n",
              "      <th>Dredging Cost</th>\n",
              "      <td>Sheet1</td>\n",
              "      <td>F5</td>\n",
              "      <td>output</td>\n",
              "      <td>$</td>\n",
              "      <td>1000.0</td>\n",
              "      <td>2.009177e+06</td>\n",
              "      <td>3.979308e+05</td>\n",
              "      <td>6.353877e+05</td>\n",
              "      <td>1.527203e+06</td>\n",
              "      <td>1.993229e+06</td>\n",
              "      <td>2.515029e+06</td>\n",
              "      <td>3.303815e+06</td>\n",
              "    </tr>\n",
              "    <tr>\n",
              "      <th>Project Cost</th>\n",
              "      <td>Sheet1</td>\n",
              "      <td>F11</td>\n",
              "      <td>output</td>\n",
              "      <td>$</td>\n",
              "      <td>1000.0</td>\n",
              "      <td>2.108997e+07</td>\n",
              "      <td>3.899722e+06</td>\n",
              "      <td>7.626823e+06</td>\n",
              "      <td>1.636662e+07</td>\n",
              "      <td>2.093368e+07</td>\n",
              "      <td>2.604731e+07</td>\n",
              "      <td>3.377741e+07</td>\n",
              "    </tr>\n",
              "  </tbody>\n",
              "</table>\n",
              "</div>\n",
              "      <button class=\"colab-df-convert\" onclick=\"convertToInteractive('df-e11eccaf-ca1f-42ef-a4cf-1a7ef1fce1bb')\"\n",
              "              title=\"Convert this dataframe to an interactive table.\"\n",
              "              style=\"display:none;\">\n",
              "        \n",
              "  <svg xmlns=\"http://www.w3.org/2000/svg\" height=\"24px\"viewBox=\"0 0 24 24\"\n",
              "       width=\"24px\">\n",
              "    <path d=\"M0 0h24v24H0V0z\" fill=\"none\"/>\n",
              "    <path d=\"M18.56 5.44l.94 2.06.94-2.06 2.06-.94-2.06-.94-.94-2.06-.94 2.06-2.06.94zm-11 1L8.5 8.5l.94-2.06 2.06-.94-2.06-.94L8.5 2.5l-.94 2.06-2.06.94zm10 10l.94 2.06.94-2.06 2.06-.94-2.06-.94-.94-2.06-.94 2.06-2.06.94z\"/><path d=\"M17.41 7.96l-1.37-1.37c-.4-.4-.92-.59-1.43-.59-.52 0-1.04.2-1.43.59L10.3 9.45l-7.72 7.72c-.78.78-.78 2.05 0 2.83L4 21.41c.39.39.9.59 1.41.59.51 0 1.02-.2 1.41-.59l7.78-7.78 2.81-2.81c.8-.78.8-2.07 0-2.86zM5.41 20L4 18.59l7.72-7.72 1.47 1.35L5.41 20z\"/>\n",
              "  </svg>\n",
              "      </button>\n",
              "      \n",
              "  <style>\n",
              "    .colab-df-container {\n",
              "      display:flex;\n",
              "      flex-wrap:wrap;\n",
              "      gap: 12px;\n",
              "    }\n",
              "\n",
              "    .colab-df-convert {\n",
              "      background-color: #E8F0FE;\n",
              "      border: none;\n",
              "      border-radius: 50%;\n",
              "      cursor: pointer;\n",
              "      display: none;\n",
              "      fill: #1967D2;\n",
              "      height: 32px;\n",
              "      padding: 0 0 0 0;\n",
              "      width: 32px;\n",
              "    }\n",
              "\n",
              "    .colab-df-convert:hover {\n",
              "      background-color: #E2EBFA;\n",
              "      box-shadow: 0px 1px 2px rgba(60, 64, 67, 0.3), 0px 1px 3px 1px rgba(60, 64, 67, 0.15);\n",
              "      fill: #174EA6;\n",
              "    }\n",
              "\n",
              "    [theme=dark] .colab-df-convert {\n",
              "      background-color: #3B4455;\n",
              "      fill: #D2E3FC;\n",
              "    }\n",
              "\n",
              "    [theme=dark] .colab-df-convert:hover {\n",
              "      background-color: #434B5C;\n",
              "      box-shadow: 0px 1px 3px 1px rgba(0, 0, 0, 0.15);\n",
              "      filter: drop-shadow(0px 1px 2px rgba(0, 0, 0, 0.3));\n",
              "      fill: #FFFFFF;\n",
              "    }\n",
              "  </style>\n",
              "\n",
              "      <script>\n",
              "        const buttonEl =\n",
              "          document.querySelector('#df-e11eccaf-ca1f-42ef-a4cf-1a7ef1fce1bb button.colab-df-convert');\n",
              "        buttonEl.style.display =\n",
              "          google.colab.kernel.accessAllowed ? 'block' : 'none';\n",
              "\n",
              "        async function convertToInteractive(key) {\n",
              "          const element = document.querySelector('#df-e11eccaf-ca1f-42ef-a4cf-1a7ef1fce1bb');\n",
              "          const dataTable =\n",
              "            await google.colab.kernel.invokeFunction('convertToInteractive',\n",
              "                                                     [key], {});\n",
              "          if (!dataTable) return;\n",
              "\n",
              "          const docLinkHtml = 'Like what you see? Visit the ' +\n",
              "            '<a target=\"_blank\" href=https://colab.research.google.com/notebooks/data_table.ipynb>data table notebook</a>'\n",
              "            + ' to learn more about interactive tables.';\n",
              "          element.innerHTML = '';\n",
              "          dataTable['output_type'] = 'display_data';\n",
              "          await google.colab.output.renderOutput(dataTable, element);\n",
              "          const docLink = document.createElement('div');\n",
              "          docLink.innerHTML = docLinkHtml;\n",
              "          element.appendChild(docLink);\n",
              "        }\n",
              "      </script>\n",
              "    </div>\n",
              "  </div>\n",
              "  "
            ],
            "text/plain": [
              "                     sheet cell    type  unit   count          mean  \\\n",
              "Dredging Quantity   Sheet1   E5   input    cy  1000.0  1.004589e+05   \n",
              "Dredging Unit Cost  Sheet1   C4   input  $/cy  1000.0  1.998482e+01   \n",
              "Dredging Cost       Sheet1   F5  output     $  1000.0  2.009177e+06   \n",
              "Project Cost        Sheet1  F11  output     $  1000.0  2.108997e+07   \n",
              "\n",
              "                             std           min           10%           50%  \\\n",
              "Dredging Quantity   1.989654e+04  3.176938e+04  7.636015e+04  9.966147e+04   \n",
              "Dredging Unit Cost  2.886487e+00  1.500063e+01  1.607192e+01  2.005114e+01   \n",
              "Dredging Cost       3.979308e+05  6.353877e+05  1.527203e+06  1.993229e+06   \n",
              "Project Cost        3.899722e+06  7.626823e+06  1.636662e+07  2.093368e+07   \n",
              "\n",
              "                             90%           max  \n",
              "Dredging Quantity   1.257515e+05  1.651907e+05  \n",
              "Dredging Unit Cost  2.395573e+01  2.499523e+01  \n",
              "Dredging Cost       2.515029e+06  3.303815e+06  \n",
              "Project Cost        2.604731e+07  3.377741e+07  "
            ]
          },
          "metadata": {},
          "execution_count": 24
        }
      ],
      "source": [
        "model.describe()"
      ]
    },
    {
      "cell_type": "markdown",
      "metadata": {
        "id": "I9Fj-yKU5vp1"
      },
      "source": [
        "The results can also be plotted with the `plot_hists()` convenience function.  "
      ]
    },
    {
      "cell_type": "code",
      "execution_count": 25,
      "metadata": {
        "colab": {
          "base_uri": "https://localhost:8080/",
          "height": 465
        },
        "id": "EdIY_fp25vp2",
        "outputId": "0bf67e6b-d363-44ba-f68e-0ca46cc04051"
      },
      "outputs": [
        {
          "output_type": "display_data",
          "data": {
            "image/png": "[encoded data removed]",
            "text/plain": [
              "<Figure size 432x216 with 2 Axes>"
            ]
          },
          "metadata": {
            "needs_background": "light"
          }
        },
        {
          "output_type": "display_data",
          "data": {
            "image/png": "[encoded data removed]",
            "text/plain": [
              "<Figure size 432x216 with 2 Axes>"
            ]
          },
          "metadata": {
            "needs_background": "light"
          }
        }
      ],
      "source": [
        "model.plot_hists('input'), model.plot_hists('output');"
      ]
    },
    {
      "cell_type": "markdown",
      "metadata": {
        "id": "6aTJi8fp5vp3"
      },
      "source": [
        "# Returning `matplotlib` and `pandas` Objects\n",
        "The default summary tables and figures might not be good for your purposes.  In that case, you can return the base objects and work with them in python. \n",
        "\n",
        "Modify the default graphics with `matplotlib`."
      ]
    },
    {
      "cell_type": "code",
      "execution_count": 26,
      "metadata": {
        "colab": {
          "base_uri": "https://localhost:8080/",
          "height": 241
        },
        "id": "LCmZiYGU5vp4",
        "outputId": "50106621-a11d-4d8b-f67c-c6475c546a59"
      },
      "outputs": [
        {
          "output_type": "display_data",
          "data": {
            "image/png": "[encoded data removed]",
            "text/plain": [
              "<Figure size 432x216 with 2 Axes>"
            ]
          },
          "metadata": {
            "needs_background": "light"
          }
        }
      ],
      "source": [
        "axes = model.plot_hists('output')\n",
        "plt.suptitle('Retitle - Cost Sensitivity Results');"
      ]
    },
    {
      "cell_type": "markdown",
      "metadata": {
        "id": "oZeX2jnr5vp6"
      },
      "source": [
        "`get_io_values` returns all the monte carlo results if you want to manipulate them yourself.  "
      ]
    },
    {
      "cell_type": "code",
      "execution_count": 27,
      "metadata": {
        "colab": {
          "base_uri": "https://localhost:8080/",
          "height": 206
        },
        "id": "carNMJEv5vp7",
        "outputId": "73cb2b29-971a-44ae-8ade-fd2ba8919080"
      },
      "outputs": [
        {
          "output_type": "execute_result",
          "data": {
            "text/html": [
              "\n",
              "  <div id=\"df-82f6bbcf-5288-4943-967f-557181b6ed67\">\n",
              "    <div class=\"colab-df-container\">\n",
              "      <div>\n",
              "<style scoped>\n",
              "    .dataframe tbody tr th:only-of-type {\n",
              "        vertical-align: middle;\n",
              "    }\n",
              "\n",
              "    .dataframe tbody tr th {\n",
              "        vertical-align: top;\n",
              "    }\n",
              "\n",
              "    .dataframe thead th {\n",
              "        text-align: right;\n",
              "    }\n",
              "</style>\n",
              "<table border=\"1\" class=\"dataframe\">\n",
              "  <thead>\n",
              "    <tr style=\"text-align: right;\">\n",
              "      <th></th>\n",
              "      <th>Dredging Cost</th>\n",
              "      <th>Project Cost</th>\n",
              "    </tr>\n",
              "  </thead>\n",
              "  <tbody>\n",
              "    <tr>\n",
              "      <th>0</th>\n",
              "      <td>2.404134e+06</td>\n",
              "      <td>2.496055e+07</td>\n",
              "    </tr>\n",
              "    <tr>\n",
              "      <th>1</th>\n",
              "      <td>2.581706e+06</td>\n",
              "      <td>2.670075e+07</td>\n",
              "    </tr>\n",
              "    <tr>\n",
              "      <th>2</th>\n",
              "      <td>1.943201e+06</td>\n",
              "      <td>2.044340e+07</td>\n",
              "    </tr>\n",
              "    <tr>\n",
              "      <th>3</th>\n",
              "      <td>1.629030e+06</td>\n",
              "      <td>1.736453e+07</td>\n",
              "    </tr>\n",
              "    <tr>\n",
              "      <th>4</th>\n",
              "      <td>1.580115e+06</td>\n",
              "      <td>1.688516e+07</td>\n",
              "    </tr>\n",
              "  </tbody>\n",
              "</table>\n",
              "</div>\n",
              "      <button class=\"colab-df-convert\" onclick=\"convertToInteractive('df-82f6bbcf-5288-4943-967f-557181b6ed67')\"\n",
              "              title=\"Convert this dataframe to an interactive table.\"\n",
              "              style=\"display:none;\">\n",
              "        \n",
              "  <svg xmlns=\"http://www.w3.org/2000/svg\" height=\"24px\"viewBox=\"0 0 24 24\"\n",
              "       width=\"24px\">\n",
              "    <path d=\"M0 0h24v24H0V0z\" fill=\"none\"/>\n",
              "    <path d=\"M18.56 5.44l.94 2.06.94-2.06 2.06-.94-2.06-.94-.94-2.06-.94 2.06-2.06.94zm-11 1L8.5 8.5l.94-2.06 2.06-.94-2.06-.94L8.5 2.5l-.94 2.06-2.06.94zm10 10l.94 2.06.94-2.06 2.06-.94-2.06-.94-.94-2.06-.94 2.06-2.06.94z\"/><path d=\"M17.41 7.96l-1.37-1.37c-.4-.4-.92-.59-1.43-.59-.52 0-1.04.2-1.43.59L10.3 9.45l-7.72 7.72c-.78.78-.78 2.05 0 2.83L4 21.41c.39.39.9.59 1.41.59.51 0 1.02-.2 1.41-.59l7.78-7.78 2.81-2.81c.8-.78.8-2.07 0-2.86zM5.41 20L4 18.59l7.72-7.72 1.47 1.35L5.41 20z\"/>\n",
              "  </svg>\n",
              "      </button>\n",
              "      \n",
              "  <style>\n",
              "    .colab-df-container {\n",
              "      display:flex;\n",
              "      flex-wrap:wrap;\n",
              "      gap: 12px;\n",
              "    }\n",
              "\n",
              "    .colab-df-convert {\n",
              "      background-color: #E8F0FE;\n",
              "      border: none;\n",
              "      border-radius: 50%;\n",
              "      cursor: pointer;\n",
              "      display: none;\n",
              "      fill: #1967D2;\n",
              "      height: 32px;\n",
              "      padding: 0 0 0 0;\n",
              "      width: 32px;\n",
              "    }\n",
              "\n",
              "    .colab-df-convert:hover {\n",
              "      background-color: #E2EBFA;\n",
              "      box-shadow: 0px 1px 2px rgba(60, 64, 67, 0.3), 0px 1px 3px 1px rgba(60, 64, 67, 0.15);\n",
              "      fill: #174EA6;\n",
              "    }\n",
              "\n",
              "    [theme=dark] .colab-df-convert {\n",
              "      background-color: #3B4455;\n",
              "      fill: #D2E3FC;\n",
              "    }\n",
              "\n",
              "    [theme=dark] .colab-df-convert:hover {\n",
              "      background-color: #434B5C;\n",
              "      box-shadow: 0px 1px 3px 1px rgba(0, 0, 0, 0.15);\n",
              "      filter: drop-shadow(0px 1px 2px rgba(0, 0, 0, 0.3));\n",
              "      fill: #FFFFFF;\n",
              "    }\n",
              "  </style>\n",
              "\n",
              "      <script>\n",
              "        const buttonEl =\n",
              "          document.querySelector('#df-82f6bbcf-5288-4943-967f-557181b6ed67 button.colab-df-convert');\n",
              "        buttonEl.style.display =\n",
              "          google.colab.kernel.accessAllowed ? 'block' : 'none';\n",
              "\n",
              "        async function convertToInteractive(key) {\n",
              "          const element = document.querySelector('#df-82f6bbcf-5288-4943-967f-557181b6ed67');\n",
              "          const dataTable =\n",
              "            await google.colab.kernel.invokeFunction('convertToInteractive',\n",
              "                                                     [key], {});\n",
              "          if (!dataTable) return;\n",
              "\n",
              "          const docLinkHtml = 'Like what you see? Visit the ' +\n",
              "            '<a target=\"_blank\" href=https://colab.research.google.com/notebooks/data_table.ipynb>data table notebook</a>'\n",
              "            + ' to learn more about interactive tables.';\n",
              "          element.innerHTML = '';\n",
              "          dataTable['output_type'] = 'display_data';\n",
              "          await google.colab.output.renderOutput(dataTable, element);\n",
              "          const docLink = document.createElement('div');\n",
              "          docLink.innerHTML = docLinkHtml;\n",
              "          element.appendChild(docLink);\n",
              "        }\n",
              "      </script>\n",
              "    </div>\n",
              "  </div>\n",
              "  "
            ],
            "text/plain": [
              "   Dredging Cost  Project Cost\n",
              "0   2.404134e+06  2.496055e+07\n",
              "1   2.581706e+06  2.670075e+07\n",
              "2   1.943201e+06  2.044340e+07\n",
              "3   1.629030e+06  1.736453e+07\n",
              "4   1.580115e+06  1.688516e+07"
            ]
          },
          "metadata": {},
          "execution_count": 27
        }
      ],
      "source": [
        "results = model.get_io_values('output')\n",
        "results.head()"
      ]
    },
    {
      "cell_type": "markdown",
      "metadata": {
        "id": "1ciLaxUy5vp8"
      },
      "source": [
        "Make your own graphic.  "
      ]
    },
    {
      "cell_type": "code",
      "execution_count": 28,
      "metadata": {
        "colab": {
          "base_uri": "https://localhost:8080/",
          "height": 293
        },
        "id": "oNMd3tkR5vp9",
        "outputId": "fc30fe3a-5c11-4261-8372-6cc95e8d0c4c"
      },
      "outputs": [
        {
          "output_type": "execute_result",
          "data": {
            "text/plain": [
              "<matplotlib.axes._subplots.AxesSubplot at 0x7f202bcad590>"
            ]
          },
          "metadata": {},
          "execution_count": 28
        },
        {
          "output_type": "display_data",
          "data": {
            "image/png": "[encoded data removed]",
            "text/plain": [
              "<Figure size 432x288 with 1 Axes>"
            ]
          },
          "metadata": {
            "needs_background": "light"
          }
        }
      ],
      "source": [
        "results['Project Cost'].plot.box(notch=True)"
      ]
    },
    {
      "cell_type": "code",
      "execution_count": null,
      "metadata": {
        "id": "TiOjEwdn5vp-"
      },
      "outputs": [],
      "source": [
        ""
      ]
    }
  ],
  "metadata": {
    "interpreter": {
      "hash": "050b6b8ad2ea74279c1395cc9fbf59d637989e80f123218f16d2a67f3fc94918"
    },
    "kernelspec": {
      "display_name": "Python 3 (ipykernel)",
      "language": "python",
      "name": "python3"
    },
    "language_info": {
      "codemirror_mode": {
        "name": "ipython",
        "version": 3
      },
      "file_extension": ".py",
      "mimetype": "text/x-python",
      "name": "python",
      "nbconvert_exporter": "python",
      "pygments_lexer": "ipython3",
      "version": "3.7.11"
    },
    "toc-autonumbering": true,
    "colab": {
      "name": "pycel_sensitivity_tutorial.ipynb",
      "provenance": []
    }
  },
  "nbformat": 4,
  "nbformat_minor": 0
}