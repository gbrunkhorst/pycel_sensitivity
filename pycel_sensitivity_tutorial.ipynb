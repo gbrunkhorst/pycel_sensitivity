{
 "cells": [
  {
   "cell_type": "markdown",
   "metadata": {
    "tags": []
   },
   "source": [
    "# Pycel_sensitivity tutorial\n",
    "Pycel_sensitivity is a wrapper around the package pycel (https://github.com/dgorissen/pycel).  Pycel is \"a small python library that can translate an Excel spreadsheet into executable python code which can be run independently of Excel.\"  The Pycel package allows a user to run a spreadsheet in python.  \n",
    "\n",
    "Pycel_sensitivity provide wrappers for common needs, such as identifing input and output variables, tracking variable names and units, repeating calculations from a list if input variables, drawing repeated calculations from probability distributions, summarizing results in dataframes or histograms.  "
   ]
  },
  {
   "cell_type": "markdown",
   "metadata": {},
   "source": [
    "## Imports"
   ]
  },
  {
   "cell_type": "code",
   "execution_count": 3,
   "metadata": {},
   "outputs": [],
   "source": [
    "import pycel\n",
    "import scipy.stats as ss\n",
    "import matplotlib.pyplot as plt\n",
    "import numpy as np\n",
    "import pandas as pd\n",
    "import seaborn as sns"
   ]
  },
  {
   "cell_type": "code",
   "execution_count": 4,
   "metadata": {},
   "outputs": [],
   "source": [
    "import sys\n",
    "path = r'..\\pycel_sensitivity'\n",
    "if path not in sys.path:\n",
    "    sys.path.insert(0,path)\n",
    "import pycel_sensitivity as pcs\n",
    "import importlib"
   ]
  },
  {
   "cell_type": "markdown",
   "metadata": {
    "tags": []
   },
   "source": [
    "### Reimport Source Code as needed"
   ]
  },
  {
   "cell_type": "code",
   "execution_count": 5,
   "metadata": {},
   "outputs": [
    {
     "data": {
      "text/plain": [
       "<module 'pycel_sensitivity' from '..\\\\pycel_sensitivity\\\\pycel_sensitivity.py'>"
      ]
     },
     "execution_count": 5,
     "metadata": {},
     "output_type": "execute_result"
    }
   ],
   "source": [
    "importlib.reload(pcs)"
   ]
  },
  {
   "cell_type": "markdown",
   "metadata": {
    "tags": []
   },
   "source": [
    "# Compile and Calculate a Spreadsheet with `Pycel`\n",
    "A cost estimating worksheet is used for this example.  A cost estimate is something that an engineer is unlikely to port over to python, for collaboration with non-coders and for visual checking.  However, the repetitive components can be improved with `pycel`. The following code shows the basic functionality of pycel. \n",
    "\n",
    "First, compile the example spreadsheet.  "
   ]
  },
  {
   "cell_type": "code",
   "execution_count": 6,
   "metadata": {},
   "outputs": [],
   "source": [
    "filename = \"../cost_estimate/Cost_Estimate_Example.xlsx\"\n",
    "wb = pycel.ExcelCompiler(filename=filename)"
   ]
  },
  {
   "cell_type": "markdown",
   "metadata": {},
   "source": [
    "`wb` is the compiled Excel workbook, which will be used in the rest of this tutorial.  With `pycel`, we can access values using the method `evaluate`.  Assume that an input cell of interest is as follows:     "
   ]
  },
  {
   "cell_type": "code",
   "execution_count": 7,
   "metadata": {},
   "outputs": [
    {
     "data": {
      "text/plain": [
       "100000"
      ]
     },
     "execution_count": 7,
     "metadata": {},
     "output_type": "execute_result"
    }
   ],
   "source": [
    "sheet = 'Sheet1'\n",
    "input_cell = 'E5'\n",
    "wb.evaluate(sheet+'!'+input_cell)"
   ]
  },
  {
   "cell_type": "markdown",
   "metadata": {},
   "source": [
    "And an output cell of interest is as follows:"
   ]
  },
  {
   "cell_type": "code",
   "execution_count": 8,
   "metadata": {},
   "outputs": [
    {
     "data": {
      "text/plain": [
       "21462000"
      ]
     },
     "execution_count": 8,
     "metadata": {},
     "output_type": "execute_result"
    }
   ],
   "source": [
    "output_cell = 'F11'\n",
    "wb.evaluate(sheet+'!'+output_cell)"
   ]
  },
  {
   "cell_type": "markdown",
   "metadata": {},
   "source": [
    "We can modify the input cell with `set_value`."
   ]
  },
  {
   "cell_type": "code",
   "execution_count": 9,
   "metadata": {},
   "outputs": [
    {
     "data": {
      "text/plain": [
       "50000"
      ]
     },
     "execution_count": 9,
     "metadata": {},
     "output_type": "execute_result"
    }
   ],
   "source": [
    "value = 50000\n",
    "wb.set_value(sheet+'!'+input_cell, value)\n",
    "wb.evaluate(sheet+'!'+input_cell)"
   ]
  },
  {
   "cell_type": "markdown",
   "metadata": {},
   "source": [
    "Now the output cell has changed as well - following the calculation logic in the spreadsheet.  "
   ]
  },
  {
   "cell_type": "code",
   "execution_count": 10,
   "metadata": {},
   "outputs": [
    {
     "data": {
      "text/plain": [
       "11662000.0"
      ]
     },
     "execution_count": 10,
     "metadata": {},
     "output_type": "execute_result"
    }
   ],
   "source": [
    "wb.evaluate(sheet+'!'+output_cell)"
   ]
  },
  {
   "cell_type": "markdown",
   "metadata": {},
   "source": [
    "That is the basic calculation functionality of pycel!  If you want to repeat a calculation a bunch of times, you could put the functions in a loop, which is more/less what `pycel_sensitivity` does for you.  `pycel_sensitivity` will help track inputs and outputs as a list of values run sequentially, a list of values run randomly as monte carlo, and probability distributions as monte carlo.      "
   ]
  },
  {
   "cell_type": "markdown",
   "metadata": {},
   "source": [
    "# `Pycel_sensitivity` with a List of Inputs\n",
    "`Pycel_sensitivity` has three classes, `InputVar` for input variables, `OutputVar` for output variables, and `Model` for the combined spreadsheet model, variables, and convenience functions.  Working from the example above, lets assume that you want to run the calculation with a list of input values. This shows a basic workflow for repetive calculations.  "
   ]
  },
  {
   "cell_type": "markdown",
   "metadata": {},
   "source": [
    "## One Input and One Output Variable"
   ]
  },
  {
   "cell_type": "code",
   "execution_count": 11,
   "metadata": {},
   "outputs": [
    {
     "data": {
      "text/html": [
       "<div>\n",
       "<style scoped>\n",
       "    .dataframe tbody tr th:only-of-type {\n",
       "        vertical-align: middle;\n",
       "    }\n",
       "\n",
       "    .dataframe tbody tr th {\n",
       "        vertical-align: top;\n",
       "    }\n",
       "\n",
       "    .dataframe thead tr th {\n",
       "        text-align: left;\n",
       "    }\n",
       "</style>\n",
       "<table border=\"1\" class=\"dataframe\">\n",
       "  <thead>\n",
       "    <tr>\n",
       "      <th></th>\n",
       "      <th>Inputs</th>\n",
       "      <th>Outputs</th>\n",
       "    </tr>\n",
       "    <tr>\n",
       "      <th></th>\n",
       "      <th>E5</th>\n",
       "      <th>F11</th>\n",
       "    </tr>\n",
       "  </thead>\n",
       "  <tbody>\n",
       "    <tr>\n",
       "      <th>0</th>\n",
       "      <td>50000</td>\n",
       "      <td>11662000.0</td>\n",
       "    </tr>\n",
       "    <tr>\n",
       "      <th>1</th>\n",
       "      <td>100000</td>\n",
       "      <td>21462000.0</td>\n",
       "    </tr>\n",
       "    <tr>\n",
       "      <th>2</th>\n",
       "      <td>200000</td>\n",
       "      <td>41062000.0</td>\n",
       "    </tr>\n",
       "  </tbody>\n",
       "</table>\n",
       "</div>"
      ],
      "text/plain": [
       "   Inputs     Outputs\n",
       "       E5         F11\n",
       "0   50000  11662000.0\n",
       "1  100000  21462000.0\n",
       "2  200000  41062000.0"
      ]
     },
     "execution_count": 11,
     "metadata": {},
     "output_type": "execute_result"
    }
   ],
   "source": [
    "# Specify a list on inputs\n",
    "values = [50000, 100000, 200000]\n",
    "# Instanciate the `InputVar` with the compiled workbook, sheet, cell, and list of values\n",
    "iv = pcs.InputVar(wb, sheet, input_cell, values = values )\n",
    "# Same for `OutputVar`. \n",
    "ov =  pcs.OutputVar(wb, sheet, output_cell)\n",
    "# Instanciate the `Model` object with pycel compiled workbook and lists on InputVars and OutputVars.  \n",
    "model = pcs.Model(wb,[iv],[ov])\n",
    "# Run the model to perform the calculation on all input values in the list.\n",
    "model.run()\n",
    "# Get the results into a dataframee\n",
    "model.get_io_values()"
   ]
  },
  {
   "cell_type": "markdown",
   "metadata": {},
   "source": [
    "## Multiple Inputs and Outputs with Names and Units\n",
    "This section shows how `Model` handles multiple inputs and outputs, and additional attributes of `InputVar` and `OutputVar` for tracking and table and figure labeling."
   ]
  },
  {
   "cell_type": "code",
   "execution_count": 12,
   "metadata": {},
   "outputs": [
    {
     "data": {
      "text/html": [
       "<div>\n",
       "<style scoped>\n",
       "    .dataframe tbody tr th:only-of-type {\n",
       "        vertical-align: middle;\n",
       "    }\n",
       "\n",
       "    .dataframe tbody tr th {\n",
       "        vertical-align: top;\n",
       "    }\n",
       "\n",
       "    .dataframe thead tr th {\n",
       "        text-align: left;\n",
       "    }\n",
       "</style>\n",
       "<table border=\"1\" class=\"dataframe\">\n",
       "  <thead>\n",
       "    <tr>\n",
       "      <th></th>\n",
       "      <th colspan=\"2\" halign=\"left\">Inputs</th>\n",
       "      <th colspan=\"2\" halign=\"left\">Outputs</th>\n",
       "    </tr>\n",
       "    <tr>\n",
       "      <th></th>\n",
       "      <th>Dredging Quantity</th>\n",
       "      <th>Dredging Unit Cost</th>\n",
       "      <th>Dredging Cost</th>\n",
       "      <th>Project Cost</th>\n",
       "    </tr>\n",
       "  </thead>\n",
       "  <tbody>\n",
       "    <tr>\n",
       "      <th>0</th>\n",
       "      <td>50000</td>\n",
       "      <td>15</td>\n",
       "      <td>1000000</td>\n",
       "      <td>11200021.0</td>\n",
       "    </tr>\n",
       "    <tr>\n",
       "      <th>1</th>\n",
       "      <td>100000</td>\n",
       "      <td>20</td>\n",
       "      <td>2000000</td>\n",
       "      <td>21000028.0</td>\n",
       "    </tr>\n",
       "    <tr>\n",
       "      <th>2</th>\n",
       "      <td>200000</td>\n",
       "      <td>25</td>\n",
       "      <td>4000000</td>\n",
       "      <td>40600035.0</td>\n",
       "    </tr>\n",
       "  </tbody>\n",
       "</table>\n",
       "</div>"
      ],
      "text/plain": [
       "             Inputs                          Outputs             \n",
       "  Dredging Quantity Dredging Unit Cost Dredging Cost Project Cost\n",
       "0             50000                 15       1000000   11200021.0\n",
       "1            100000                 20       2000000   21000028.0\n",
       "2            200000                 25       4000000   40600035.0"
      ]
     },
     "execution_count": 12,
     "metadata": {},
     "output_type": "execute_result"
    }
   ],
   "source": [
    "# Now we give the input variable a name and unit for convenience\n",
    "iv1 = pcs.InputVar(wb,sheet=sheet, cell=input_cell, \n",
    "    name='Dredging Quantity', unit = 'cy', values = values)\n",
    "\n",
    "# Second input  - list must be of the same length\n",
    "values = [15, 20, 25]\n",
    "iv2 = pcs.InputVar(wb,sheet=sheet, cell='C4', \n",
    "    name='Dredging Unit Cost', unit = '$/cy', values = values  )\n",
    "\n",
    "# Specify two output variables\n",
    "ov1 = pcs.OutputVar(wb,sheet = sheet, cell = 'F5' ,name= 'Dredging Cost', unit = '$' )\n",
    "ov2 = pcs.OutputVar(wb,sheet = sheet, cell = 'F11' ,name= 'Project Cost', unit = '$' )\n",
    "\n",
    "# Instanciate and run the model\n",
    "model = pcs.Model(wb,[iv1, iv2],[ov1, ov2])\n",
    "model.run()\n",
    "\n",
    "# the output dataframe includes the names\n",
    "model.get_io_values()"
   ]
  },
  {
   "cell_type": "markdown",
   "metadata": {},
   "source": [
    "The model is run for each pair of inputs sequentially.  "
   ]
  },
  {
   "cell_type": "markdown",
   "metadata": {
    "tags": []
   },
   "source": [
    "# `Pycel_sensitivity` with Randomly Drawn Inputs\n",
    "The model can be used to run a monte carlo simulation iterately with random draws from the list of input values.  If we supply the keyword `iterations` with an integer, the model will perform the monte carlo simulation using `np.random.choice` rather than running the list of inputs sequentially.   \n"
   ]
  },
  {
   "cell_type": "code",
   "execution_count": 13,
   "metadata": {},
   "outputs": [],
   "source": [
    "model.run(iterations = 1000)"
   ]
  },
  {
   "cell_type": "markdown",
   "metadata": {},
   "source": [
    "The `describe` method provides summary statistics.  "
   ]
  },
  {
   "cell_type": "code",
   "execution_count": 14,
   "metadata": {},
   "outputs": [
    {
     "data": {
      "text/html": [
       "<div>\n",
       "<style scoped>\n",
       "    .dataframe tbody tr th:only-of-type {\n",
       "        vertical-align: middle;\n",
       "    }\n",
       "\n",
       "    .dataframe tbody tr th {\n",
       "        vertical-align: top;\n",
       "    }\n",
       "\n",
       "    .dataframe thead th {\n",
       "        text-align: right;\n",
       "    }\n",
       "</style>\n",
       "<table border=\"1\" class=\"dataframe\">\n",
       "  <thead>\n",
       "    <tr style=\"text-align: right;\">\n",
       "      <th></th>\n",
       "      <th>sheet</th>\n",
       "      <th>cell</th>\n",
       "      <th>type</th>\n",
       "      <th>unit</th>\n",
       "      <th>count</th>\n",
       "      <th>mean</th>\n",
       "      <th>std</th>\n",
       "      <th>min</th>\n",
       "      <th>10%</th>\n",
       "      <th>50%</th>\n",
       "      <th>90%</th>\n",
       "      <th>max</th>\n",
       "    </tr>\n",
       "  </thead>\n",
       "  <tbody>\n",
       "    <tr>\n",
       "      <th>Dredging Quantity</th>\n",
       "      <td>Sheet1</td>\n",
       "      <td>E5</td>\n",
       "      <td>input</td>\n",
       "      <td>cy</td>\n",
       "      <td>1000.0</td>\n",
       "      <td>1.175000e+05</td>\n",
       "      <td>6.287052e+04</td>\n",
       "      <td>50000.0</td>\n",
       "      <td>50000.0</td>\n",
       "      <td>100000.0</td>\n",
       "      <td>200000.0</td>\n",
       "      <td>200000.0</td>\n",
       "    </tr>\n",
       "    <tr>\n",
       "      <th>Dredging Unit Cost</th>\n",
       "      <td>Sheet1</td>\n",
       "      <td>C4</td>\n",
       "      <td>input</td>\n",
       "      <td>$/cy</td>\n",
       "      <td>1000.0</td>\n",
       "      <td>2.002000e+01</td>\n",
       "      <td>4.082434e+00</td>\n",
       "      <td>15.0</td>\n",
       "      <td>15.0</td>\n",
       "      <td>20.0</td>\n",
       "      <td>25.0</td>\n",
       "      <td>25.0</td>\n",
       "    </tr>\n",
       "    <tr>\n",
       "      <th>Dredging Cost</th>\n",
       "      <td>Sheet1</td>\n",
       "      <td>F5</td>\n",
       "      <td>output</td>\n",
       "      <td>$</td>\n",
       "      <td>1000.0</td>\n",
       "      <td>2.350000e+06</td>\n",
       "      <td>1.257410e+06</td>\n",
       "      <td>1000000.0</td>\n",
       "      <td>1000000.0</td>\n",
       "      <td>2000000.0</td>\n",
       "      <td>4000000.0</td>\n",
       "      <td>4000000.0</td>\n",
       "    </tr>\n",
       "    <tr>\n",
       "      <th>Project Cost</th>\n",
       "      <td>Sheet1</td>\n",
       "      <td>F11</td>\n",
       "      <td>output</td>\n",
       "      <td>$</td>\n",
       "      <td>1000.0</td>\n",
       "      <td>2.443003e+07</td>\n",
       "      <td>1.232262e+07</td>\n",
       "      <td>11200021.0</td>\n",
       "      <td>11200021.0</td>\n",
       "      <td>21000028.0</td>\n",
       "      <td>40600035.0</td>\n",
       "      <td>40600035.0</td>\n",
       "    </tr>\n",
       "  </tbody>\n",
       "</table>\n",
       "</div>"
      ],
      "text/plain": [
       "                     sheet cell    type  unit   count          mean  \\\n",
       "Dredging Quantity   Sheet1   E5   input    cy  1000.0  1.175000e+05   \n",
       "Dredging Unit Cost  Sheet1   C4   input  $/cy  1000.0  2.002000e+01   \n",
       "Dredging Cost       Sheet1   F5  output     $  1000.0  2.350000e+06   \n",
       "Project Cost        Sheet1  F11  output     $  1000.0  2.443003e+07   \n",
       "\n",
       "                             std         min         10%         50%  \\\n",
       "Dredging Quantity   6.287052e+04     50000.0     50000.0    100000.0   \n",
       "Dredging Unit Cost  4.082434e+00        15.0        15.0        20.0   \n",
       "Dredging Cost       1.257410e+06   1000000.0   1000000.0   2000000.0   \n",
       "Project Cost        1.232262e+07  11200021.0  11200021.0  21000028.0   \n",
       "\n",
       "                           90%         max  \n",
       "Dredging Quantity     200000.0    200000.0  \n",
       "Dredging Unit Cost        25.0        25.0  \n",
       "Dredging Cost        4000000.0   4000000.0  \n",
       "Project Cost        40600035.0  40600035.0  "
      ]
     },
     "execution_count": 14,
     "metadata": {},
     "output_type": "execute_result"
    }
   ],
   "source": [
    "model.describe()"
   ]
  },
  {
   "cell_type": "markdown",
   "metadata": {
    "tags": []
   },
   "source": [
    "# `Pycel_sensitivity` with Inputs as `Scipy.Stats` Probability Distributions\n",
    "The next logical extension is to use continuous probability distributions as inputs rather than discrete distributions.  `pycel_sensitivity` accepts `scipy.stats` continuous probability distributions as inputs to the monte carlo analysis.  See https://docs.scipy.org/doc/scipy/reference/stats.html for available distributions.  "
   ]
  },
  {
   "cell_type": "code",
   "execution_count": 15,
   "metadata": {},
   "outputs": [],
   "source": [
    "# normal distribution\n",
    "dist1  = ss.norm(100000,20000)\n",
    "# uniform distribution \n",
    "# (note that the second parameter \n",
    "# is the width rather than the max!)\n",
    "dist2 = ss.uniform(15, 10)"
   ]
  },
  {
   "cell_type": "code",
   "execution_count": 16,
   "metadata": {},
   "outputs": [],
   "source": [
    "# reinstanciate the input variable and the model\n",
    "iv1 = pcs.InputVar(wb,sheet=sheet, cell=input_cell, \n",
    "    name='Dredging Quantity', unit = 'cy', dist = dist1)\n",
    "iv2 = pcs.InputVar(wb,sheet=sheet, cell='C4', \n",
    "    name='Dredging Unit Cost', unit = '$/cy', dist=dist2)\n",
    "\n",
    "model = pcs.Model(wb,[iv1, iv2],[ov1, ov2])"
   ]
  },
  {
   "cell_type": "code",
   "execution_count": 17,
   "metadata": {},
   "outputs": [
    {
     "data": {
      "image/png": "[encoded data removed]",
      "text/plain": [
       "<Figure size 432x216 with 2 Axes>"
      ]
     },
     "metadata": {
      "needs_background": "light"
     },
     "output_type": "display_data"
    }
   ],
   "source": [
    "# check the input distributions\n",
    "model.plot_input_dists();"
   ]
  },
  {
   "cell_type": "code",
   "execution_count": 18,
   "metadata": {},
   "outputs": [],
   "source": [
    "model.run(iterations = 1000)"
   ]
  },
  {
   "cell_type": "code",
   "execution_count": 19,
   "metadata": {},
   "outputs": [
    {
     "data": {
      "text/html": [
       "<div>\n",
       "<style scoped>\n",
       "    .dataframe tbody tr th:only-of-type {\n",
       "        vertical-align: middle;\n",
       "    }\n",
       "\n",
       "    .dataframe tbody tr th {\n",
       "        vertical-align: top;\n",
       "    }\n",
       "\n",
       "    .dataframe thead th {\n",
       "        text-align: right;\n",
       "    }\n",
       "</style>\n",
       "<table border=\"1\" class=\"dataframe\">\n",
       "  <thead>\n",
       "    <tr style=\"text-align: right;\">\n",
       "      <th></th>\n",
       "      <th>sheet</th>\n",
       "      <th>cell</th>\n",
       "      <th>type</th>\n",
       "      <th>unit</th>\n",
       "      <th>count</th>\n",
       "      <th>mean</th>\n",
       "      <th>std</th>\n",
       "      <th>min</th>\n",
       "      <th>10%</th>\n",
       "      <th>50%</th>\n",
       "      <th>90%</th>\n",
       "      <th>max</th>\n",
       "    </tr>\n",
       "  </thead>\n",
       "  <tbody>\n",
       "    <tr>\n",
       "      <th>Dredging Quantity</th>\n",
       "      <td>Sheet1</td>\n",
       "      <td>E5</td>\n",
       "      <td>input</td>\n",
       "      <td>cy</td>\n",
       "      <td>1000.0</td>\n",
       "      <td>9.975552e+04</td>\n",
       "      <td>2.019881e+04</td>\n",
       "      <td>4.000299e+04</td>\n",
       "      <td>7.482258e+04</td>\n",
       "      <td>9.998728e+04</td>\n",
       "      <td>1.255399e+05</td>\n",
       "      <td>1.683412e+05</td>\n",
       "    </tr>\n",
       "    <tr>\n",
       "      <th>Dredging Unit Cost</th>\n",
       "      <td>Sheet1</td>\n",
       "      <td>C4</td>\n",
       "      <td>input</td>\n",
       "      <td>$/cy</td>\n",
       "      <td>1000.0</td>\n",
       "      <td>1.999667e+01</td>\n",
       "      <td>2.850631e+00</td>\n",
       "      <td>1.500251e+01</td>\n",
       "      <td>1.610562e+01</td>\n",
       "      <td>2.000500e+01</td>\n",
       "      <td>2.392890e+01</td>\n",
       "      <td>2.499803e+01</td>\n",
       "    </tr>\n",
       "    <tr>\n",
       "      <th>Dredging Cost</th>\n",
       "      <td>Sheet1</td>\n",
       "      <td>F5</td>\n",
       "      <td>output</td>\n",
       "      <td>$</td>\n",
       "      <td>1000.0</td>\n",
       "      <td>1.995110e+06</td>\n",
       "      <td>4.039762e+05</td>\n",
       "      <td>8.000598e+05</td>\n",
       "      <td>1.496452e+06</td>\n",
       "      <td>1.999746e+06</td>\n",
       "      <td>2.510798e+06</td>\n",
       "      <td>3.366824e+06</td>\n",
       "    </tr>\n",
       "    <tr>\n",
       "      <th>Project Cost</th>\n",
       "      <td>Sheet1</td>\n",
       "      <td>F11</td>\n",
       "      <td>output</td>\n",
       "      <td>$</td>\n",
       "      <td>1000.0</td>\n",
       "      <td>2.095211e+07</td>\n",
       "      <td>3.958967e+06</td>\n",
       "      <td>9.240612e+06</td>\n",
       "      <td>1.606525e+07</td>\n",
       "      <td>2.099754e+07</td>\n",
       "      <td>2.600585e+07</td>\n",
       "      <td>3.439490e+07</td>\n",
       "    </tr>\n",
       "  </tbody>\n",
       "</table>\n",
       "</div>"
      ],
      "text/plain": [
       "                     sheet cell    type  unit   count          mean  \\\n",
       "Dredging Quantity   Sheet1   E5   input    cy  1000.0  9.975552e+04   \n",
       "Dredging Unit Cost  Sheet1   C4   input  $/cy  1000.0  1.999667e+01   \n",
       "Dredging Cost       Sheet1   F5  output     $  1000.0  1.995110e+06   \n",
       "Project Cost        Sheet1  F11  output     $  1000.0  2.095211e+07   \n",
       "\n",
       "                             std           min           10%           50%  \\\n",
       "Dredging Quantity   2.019881e+04  4.000299e+04  7.482258e+04  9.998728e+04   \n",
       "Dredging Unit Cost  2.850631e+00  1.500251e+01  1.610562e+01  2.000500e+01   \n",
       "Dredging Cost       4.039762e+05  8.000598e+05  1.496452e+06  1.999746e+06   \n",
       "Project Cost        3.958967e+06  9.240612e+06  1.606525e+07  2.099754e+07   \n",
       "\n",
       "                             90%           max  \n",
       "Dredging Quantity   1.255399e+05  1.683412e+05  \n",
       "Dredging Unit Cost  2.392890e+01  2.499803e+01  \n",
       "Dredging Cost       2.510798e+06  3.366824e+06  \n",
       "Project Cost        2.600585e+07  3.439490e+07  "
      ]
     },
     "execution_count": 19,
     "metadata": {},
     "output_type": "execute_result"
    }
   ],
   "source": [
    "model.describe()"
   ]
  },
  {
   "cell_type": "markdown",
   "metadata": {},
   "source": [
    "The results can also be plotted with the `plot_hists()` convenience function.  "
   ]
  },
  {
   "cell_type": "code",
   "execution_count": 20,
   "metadata": {},
   "outputs": [
    {
     "data": {
      "image/png": "[encoded data removed]",
      "text/plain": [
       "<Figure size 432x216 with 2 Axes>"
      ]
     },
     "metadata": {
      "needs_background": "light"
     },
     "output_type": "display_data"
    },
    {
     "data": {
      "image/png": "[encoded data removed]",
      "text/plain": [
       "<Figure size 432x216 with 2 Axes>"
      ]
     },
     "metadata": {
      "needs_background": "light"
     },
     "output_type": "display_data"
    }
   ],
   "source": [
    "model.plot_hists('input'), model.plot_hists('output');"
   ]
  },
  {
   "cell_type": "markdown",
   "metadata": {},
   "source": [
    "# Returning `matplotlib` and `pandas` Objects\n",
    "The default summary tables and figures might not be good for your purposes.  In that case, you can return the base objects and work with them in python. \n",
    "\n",
    "Modify the default graphics with `matplotlib`."
   ]
  },
  {
   "cell_type": "code",
   "execution_count": 21,
   "metadata": {},
   "outputs": [
    {
     "data": {
      "image/png": "[encoded data removed]",
      "text/plain": [
       "<Figure size 432x216 with 2 Axes>"
      ]
     },
     "metadata": {
      "needs_background": "light"
     },
     "output_type": "display_data"
    }
   ],
   "source": [
    "axes = model.plot_hists('output')\n",
    "plt.suptitle('Retitle - Cost Sensitivity Results');"
   ]
  },
  {
   "cell_type": "markdown",
   "metadata": {},
   "source": [
    "`get_io_values` returns all the monte carlo results if you want to manipulate them yourself.  "
   ]
  },
  {
   "cell_type": "code",
   "execution_count": 22,
   "metadata": {},
   "outputs": [
    {
     "data": {
      "text/html": [
       "<div>\n",
       "<style scoped>\n",
       "    .dataframe tbody tr th:only-of-type {\n",
       "        vertical-align: middle;\n",
       "    }\n",
       "\n",
       "    .dataframe tbody tr th {\n",
       "        vertical-align: top;\n",
       "    }\n",
       "\n",
       "    .dataframe thead th {\n",
       "        text-align: right;\n",
       "    }\n",
       "</style>\n",
       "<table border=\"1\" class=\"dataframe\">\n",
       "  <thead>\n",
       "    <tr style=\"text-align: right;\">\n",
       "      <th></th>\n",
       "      <th>Dredging Cost</th>\n",
       "      <th>Project Cost</th>\n",
       "    </tr>\n",
       "  </thead>\n",
       "  <tbody>\n",
       "    <tr>\n",
       "      <th>0</th>\n",
       "      <td>2.345149e+06</td>\n",
       "      <td>2.438249e+07</td>\n",
       "    </tr>\n",
       "    <tr>\n",
       "      <th>1</th>\n",
       "      <td>1.845926e+06</td>\n",
       "      <td>1.949011e+07</td>\n",
       "    </tr>\n",
       "    <tr>\n",
       "      <th>2</th>\n",
       "      <td>1.719426e+06</td>\n",
       "      <td>1.825040e+07</td>\n",
       "    </tr>\n",
       "    <tr>\n",
       "      <th>3</th>\n",
       "      <td>1.260393e+06</td>\n",
       "      <td>1.375188e+07</td>\n",
       "    </tr>\n",
       "    <tr>\n",
       "      <th>4</th>\n",
       "      <td>1.701777e+06</td>\n",
       "      <td>1.807744e+07</td>\n",
       "    </tr>\n",
       "  </tbody>\n",
       "</table>\n",
       "</div>"
      ],
      "text/plain": [
       "   Dredging Cost  Project Cost\n",
       "0   2.345149e+06  2.438249e+07\n",
       "1   1.845926e+06  1.949011e+07\n",
       "2   1.719426e+06  1.825040e+07\n",
       "3   1.260393e+06  1.375188e+07\n",
       "4   1.701777e+06  1.807744e+07"
      ]
     },
     "execution_count": 22,
     "metadata": {},
     "output_type": "execute_result"
    }
   ],
   "source": [
    "results = model.get_io_values('output')\n",
    "results.head()"
   ]
  },
  {
   "cell_type": "markdown",
   "metadata": {},
   "source": [
    "Make your own graphic.  "
   ]
  },
  {
   "cell_type": "code",
   "execution_count": 23,
   "metadata": {},
   "outputs": [
    {
     "data": {
      "text/plain": [
       "<AxesSubplot:>"
      ]
     },
     "execution_count": 23,
     "metadata": {},
     "output_type": "execute_result"
    },
    {
     "data": {
      "image/png": "[encoded data removed]",
      "text/plain": [
       "<Figure size 432x288 with 1 Axes>"
      ]
     },
     "metadata": {
      "needs_background": "light"
     },
     "output_type": "display_data"
    }
   ],
   "source": [
    "results['Project Cost'].plot.box(notch=True)"
   ]
  },
  {
   "cell_type": "code",
   "execution_count": null,
   "metadata": {},
   "outputs": [],
   "source": []
  }
 ],
 "metadata": {
  "interpreter": {
   "hash": "050b6b8ad2ea74279c1395cc9fbf59d637989e80f123218f16d2a67f3fc94918"
  },
  "kernelspec": {
   "display_name": "Python 3 (ipykernel)",
   "language": "python",
   "name": "python3"
  },
  "language_info": {
   "codemirror_mode": {
    "name": "ipython",
    "version": 3
   },
   "file_extension": ".py",
   "mimetype": "text/x-python",
   "name": "python",
   "nbconvert_exporter": "python",
   "pygments_lexer": "ipython3",
   "version": "3.7.11"
  },
  "toc-autonumbering": true
 },
 "nbformat": 4,
 "nbformat_minor": 4
}
